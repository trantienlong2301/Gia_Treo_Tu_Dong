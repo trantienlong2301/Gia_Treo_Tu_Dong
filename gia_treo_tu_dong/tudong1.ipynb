{
 "cells": [
  {
   "cell_type": "code",
   "execution_count": 149,
   "metadata": {},
   "outputs": [],
   "source": [
    "import cv2\n",
    "import serial\n",
    "import time\n",
    "import numpy as np\n",
    "import urllib.request\n",
    "import matplotlib.pyplot as plt\n",
    "%matplotlib inline"
   ]
  },
  {
   "cell_type": "code",
   "execution_count": 150,
   "metadata": {},
   "outputs": [
    {
     "data": {
      "text/plain": [
       "(240, 320)"
      ]
     },
     "execution_count": 150,
     "metadata": {},
     "output_type": "execute_result"
    },
    {
     "data": {
      "image/png": "[encoded data removed]",
      "text/plain": [
       "<Figure size 640x480 with 1 Axes>"
      ]
     },
     "metadata": {},
     "output_type": "display_data"
    }
   ],
   "source": [
    "img1=np.zeros((240,320),dtype=np.uint8)\n",
    "\n",
    "plt.imshow(img1,'gray')\n",
    "img1.shape"
   ]
  },
  {
   "cell_type": "code",
   "execution_count": 151,
   "metadata": {},
   "outputs": [
    {
     "data": {
      "text/plain": [
       "<matplotlib.image.AxesImage at 0x2327e8fd4d0>"
      ]
     },
     "execution_count": 151,
     "metadata": {},
     "output_type": "execute_result"
    },
    {
     "data": {
      "image/png": "[encoded data removed]",
      "text/plain": [
       "<Figure size 640x480 with 1 Axes>"
      ]
     },
     "metadata": {},
     "output_type": "display_data"
    }
   ],
   "source": [
    "x = 150\n",
    "y = 30\n",
    "r = 172\n",
    "img2=cv2.circle(img1,(x,y),r,(255,255,255),-1)\n",
    "\n",
    "plt.imshow(img2,'gray')"
   ]
  },
  {
   "cell_type": "code",
   "execution_count": 152,
   "metadata": {},
   "outputs": [],
   "source": [
    "def creat_line (x):\n",
    "    img=np.zeros((240,320),dtype=np.uint8)\n",
    "    angle_radian=np.deg2rad(x)\n",
    "    end_point_x= int(150 - 440*np.cos(angle_radian))\n",
    "    end_point_y=int(30 + 440*np.sin(angle_radian))\n",
    "    img_line = cv2.line(img, (150,30),(end_point_x,end_point_y),(255,255,255),5)\n",
    "    return img_line"
   ]
  },
  {
   "cell_type": "code",
   "execution_count": 153,
   "metadata": {},
   "outputs": [],
   "source": [
    "img_45=creat_line(135)\n",
    "\n",
    "img_90=creat_line(90)\n",
    "\n",
    "img_135=creat_line(45)\n"
   ]
  },
  {
   "cell_type": "code",
   "execution_count": 154,
   "metadata": {},
   "outputs": [],
   "source": [
    "img45=cv2.bitwise_and(img2,img_45)\n",
    "\n",
    "img90=cv2.bitwise_and(img2,img_90)\n",
    "\n",
    "img135=cv2.bitwise_and(img2,img_135)\n"
   ]
  },
  {
   "cell_type": "code",
   "execution_count": 155,
   "metadata": {},
   "outputs": [],
   "source": [
    "def count_pixel (img):\n",
    "    return np.count_nonzero(img)"
   ]
  },
  {
   "cell_type": "code",
   "execution_count": 156,
   "metadata": {},
   "outputs": [],
   "source": [
    "\n",
    "\n",
    "def vitri(x):\n",
    "    if x == 1:\n",
    "        return 1\n",
    "    if x ==2:\n",
    "        return 2\n",
    "    if x== 3:\n",
    "        return 3\n",
    "   \n"
   ]
  },
  {
   "cell_type": "code",
   "execution_count": 157,
   "metadata": {},
   "outputs": [],
   "source": [
    "DataSerial = serial.Serial('COM10',9600)\n",
    "time.sleep(2)\n",
    "def input_Arduino(data):\n",
    "    DataSerial.write(data.encode()) \n"
   ]
  },
  {
   "cell_type": "code",
   "execution_count": 158,
   "metadata": {},
   "outputs": [
    {
     "name": "stdout",
     "output_type": "stream",
     "text": [
      "2\n",
      "2\n",
      "2\n",
      "3\n",
      "1\n",
      "3\n",
      "3\n",
      "3\n",
      "3\n",
      "None\n",
      "1\n",
      "1\n",
      "3\n",
      "3\n",
      "2\n",
      "2\n",
      "2\n",
      "2\n",
      "3\n",
      "3\n",
      "2\n",
      "1\n",
      "1\n",
      "3\n",
      "2\n",
      "2\n",
      "2\n",
      "2\n",
      "2\n",
      "2\n"
     ]
    },
    {
     "ename": "KeyboardInterrupt",
     "evalue": "",
     "output_type": "error",
     "traceback": [
      "\u001b[1;31m---------------------------------------------------------------------------\u001b[0m",
      "\u001b[1;31mKeyboardInterrupt\u001b[0m                         Traceback (most recent call last)",
      "Cell \u001b[1;32mIn[158], line 16\u001b[0m\n\u001b[0;32m     13\u001b[0m \u001b[38;5;28;01mwhile\u001b[39;00m \u001b[38;5;28;01mTrue\u001b[39;00m:\n\u001b[0;32m     14\u001b[0m     \u001b[38;5;66;03m# Read a frame from the video stream\u001b[39;00m\n\u001b[0;32m     15\u001b[0m     input_Arduino(\u001b[38;5;124m\"\u001b[39m\u001b[38;5;124mgoc\u001b[39m\u001b[38;5;124m\"\u001b[39m)\n\u001b[1;32m---> 16\u001b[0m     time\u001b[38;5;241m.\u001b[39msleep(\u001b[38;5;241m2\u001b[39m)\n\u001b[0;32m     17\u001b[0m     img_resp \u001b[38;5;241m=\u001b[39m urllib\u001b[38;5;241m.\u001b[39mrequest\u001b[38;5;241m.\u001b[39murlopen(url)\n\u001b[0;32m     18\u001b[0m     imgnp \u001b[38;5;241m=\u001b[39m np\u001b[38;5;241m.\u001b[39marray(\u001b[38;5;28mbytearray\u001b[39m(img_resp\u001b[38;5;241m.\u001b[39mread()), dtype\u001b[38;5;241m=\u001b[39mnp\u001b[38;5;241m.\u001b[39muint8)\n",
      "\u001b[1;31mKeyboardInterrupt\u001b[0m: "
     ]
    }
   ],
   "source": [
    "url = 'http://192.168.1.36/cam-lo.jpg'\n",
    "\n",
    "\n",
    "# Create a VideoCapture object\n",
    "cap = cv2.VideoCapture(url)\n",
    "\n",
    "# Check if the IP camera stream is opened successfullya\n",
    "if not cap.isOpened():\n",
    "    print(\"Failed to open the IP camera stream\")\n",
    "    exit()\n",
    "\n",
    "# Read and display video frames\n",
    "while True:\n",
    "    # Read a frame from the video stream\n",
    "    input_Arduino(\"goc\")\n",
    "    time.sleep(2)\n",
    "    img_resp = urllib.request.urlopen(url)\n",
    "    imgnp = np.array(bytearray(img_resp.read()), dtype=np.uint8)\n",
    "    # ret, frame = cap.read()\n",
    "    img = cv2.imdecode(imgnp, -1)\n",
    "\n",
    "    \n",
    "\n",
    "    gray_img=cv2.cvtColor(img,cv2.COLOR_BGR2GRAY)\n",
    "    a,result = cv2.threshold(gray_img, 0, 255, cv2.THRESH_BINARY + cv2.THRESH_OTSU)\n",
    "    result_45=cv2.bitwise_and(result,img45)\n",
    "    result_90=cv2.bitwise_and(result,img90)\n",
    "    result_135=cv2.bitwise_and(result,img135)\n",
    "\n",
    "    max_value = 0\n",
    "    dem = 0\n",
    "    x1=count_pixel(result_45)\n",
    "    x2=count_pixel(result_90)\n",
    "    x3=count_pixel(result_135)\n",
    "    \n",
    "    f =[x1,x2,x3]\n",
    "    for i in f:\n",
    "        if i>max_value:\n",
    "            max_value=i\n",
    "            dem = dem+1\n",
    "    a = vitri(dem)\n",
    "    data = str(a)\n",
    "    input_Arduino(data)\n",
    "    print(data)\n",
    "    time.sleep(2)\n",
    "    \n",
    "    \n",
    "\n",
    "\n"
   ]
  },
  {
   "cell_type": "code",
   "execution_count": null,
   "metadata": {},
   "outputs": [],
   "source": [
    "DataSerial.close()"
   ]
  }
 ],
 "metadata": {
  "kernelspec": {
   "display_name": "torch-env",
   "language": "python",
   "name": "python3"
  },
  "language_info": {
   "codemirror_mode": {
    "name": "ipython",
    "version": 3
   },
   "file_extension": ".py",
   "mimetype": "text/x-python",
   "name": "python",
   "nbconvert_exporter": "python",
   "pygments_lexer": "ipython3",
   "version": "3.11.7"
  }
 },
 "nbformat": 4,
 "nbformat_minor": 2
}
